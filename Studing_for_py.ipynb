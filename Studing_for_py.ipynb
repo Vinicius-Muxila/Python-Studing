{
  "nbformat": 4,
  "nbformat_minor": 0,
  "metadata": {
    "colab": {
      "provenance": [],
      "authorship_tag": "ABX9TyPtl2eVLNY6nUHVmvlKoijd",
      "include_colab_link": true
    },
    "kernelspec": {
      "name": "python3",
      "display_name": "Python 3"
    },
    "language_info": {
      "name": "python"
    }
  },
  "cells": [
    {
      "cell_type": "markdown",
      "metadata": {
        "id": "view-in-github",
        "colab_type": "text"
      },
      "source": [
        "<a href=\"https://colab.research.google.com/github/Vinicius-Muxila/Python-Studing/blob/main/Studing_for_py.ipynb\" target=\"_parent\"><img src=\"https://colab.research.google.com/assets/colab-badge.svg\" alt=\"Open In Colab\"/></a>"
      ]
    },
    {
      "cell_type": "code",
      "execution_count": 9,
      "metadata": {
        "colab": {
          "base_uri": "https://localhost:8080/"
        },
        "id": "bDxY8--8JkKR",
        "outputId": "856e3084-1406-43f7-cd63-e4a00110e1b8"
      },
      "outputs": [
        {
          "output_type": "stream",
          "name": "stdout",
          "text": [
            "1\n",
            "2\n",
            "3\n",
            "4\n",
            "5\n",
            "6\n",
            "7\n",
            "8\n",
            "9\n",
            "10\n",
            "\n",
            "Digite um número que queira multiplicar: 5\n",
            "5 x 1 = 5\n",
            "5 x 2 = 10\n",
            "5 x 3 = 15\n",
            "5 x 4 = 20\n",
            "5 x 5 = 25\n",
            "5 x 6 = 30\n",
            "5 x 7 = 35\n",
            "5 x 8 = 40\n",
            "5 x 9 = 45\n",
            "5 x 10 = 50\n",
            "\n",
            "Digite um número que queira dividir: 5\n",
            "5.0 / 1 = 5.00\n",
            "5.0 / 2 = 2.50\n",
            "5.0 / 3 = 1.67\n",
            "5.0 / 4 = 1.25\n",
            "5.0 / 5 = 1.00\n",
            "5.0 / 6 = 0.83\n",
            "5.0 / 7 = 0.71\n",
            "5.0 / 8 = 0.62\n",
            "5.0 / 9 = 0.56\n",
            "5.0 / 10 = 0.50\n",
            "2\n",
            "6\n",
            "12\n",
            "20\n",
            "30\n",
            "42\n",
            "56\n",
            "72\n",
            "90\n",
            "110\n",
            "132\n",
            "156\n",
            "182\n",
            "210\n",
            "240\n",
            "272\n",
            "306\n",
            "342\n",
            "380\n",
            "420\n",
            "462\n",
            "506\n",
            "552\n",
            "600\n",
            "650\n",
            "702\n",
            "756\n",
            "812\n",
            "870\n",
            "930\n",
            "992\n",
            "1056\n",
            "1122\n",
            "1190\n",
            "1260\n",
            "1332\n",
            "1406\n",
            "1482\n",
            "1560\n",
            "1640\n",
            "1722\n",
            "1806\n",
            "1892\n",
            "1980\n",
            "2070\n",
            "2162\n",
            "2256\n",
            "2352\n",
            "2450\n",
            "2550\n"
          ]
        }
      ],
      "source": [
        "# Exercício 1 — Contador Simples\n",
        "# Escreva um programa que exiba os números de 1 a 10, um por linha.\n",
        "\n",
        "for i in range(1,11):\n",
        "  print(i)\n",
        "\n",
        "# Exercício 2 — Tabuada\n",
        "# Peça para o usuário digitar um número inteiro, e exiba a tabuada desse número de 1 a 10.\n",
        "\n",
        "numero = int(input(\"\\nDigite um número que queira multiplicar: \"))\n",
        "inicio = 0\n",
        "for inicio in range(1,11):\n",
        "  resultado = inicio * numero\n",
        "  print(numero, \"x\", inicio, \"=\", resultado)\n",
        "\n",
        "numero = float(input(\"\\nDigite um número que queira dividir: \"))\n",
        "inicio = 0\n",
        "for inicio in range(1,11):\n",
        "  resultado = numero / inicio\n",
        "  print(numero, \"/\", inicio, \"=\", f\"{resultado:.2f}\")\n",
        "\n",
        "# Exercício 3 — Soma de Números Pares\n",
        "# Some e mostre todos os números pares entre 1 e 100.\n",
        "\n",
        "soma = 0\n",
        "for numero in range(2,101,2):\n",
        "  soma += numero\n",
        "  print(soma)\n",
        "\n",
        ""
      ]
    },
    {
      "cell_type": "code",
      "source": [],
      "metadata": {
        "id": "QV5xeg8QgOeo"
      },
      "execution_count": null,
      "outputs": []
    }
  ]
}