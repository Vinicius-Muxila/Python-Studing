{
  "nbformat": 4,
  "nbformat_minor": 0,
  "metadata": {
    "colab": {
      "provenance": [],
      "authorship_tag": "ABX9TyPED6S82KcI+QMRsEj5bUpC",
      "include_colab_link": true
    },
    "kernelspec": {
      "name": "python3",
      "display_name": "Python 3"
    },
    "language_info": {
      "name": "python"
    }
  },
  "cells": [
    {
      "cell_type": "markdown",
      "metadata": {
        "id": "view-in-github",
        "colab_type": "text"
      },
      "source": [
        "<a href=\"https://colab.research.google.com/github/Vinicius-Muxila/Python-Studing/blob/main/Untitled3.ipynb\" target=\"_parent\"><img src=\"https://colab.research.google.com/assets/colab-badge.svg\" alt=\"Open In Colab\"/></a>"
      ]
    },
    {
      "cell_type": "code",
      "execution_count": 16,
      "metadata": {
        "colab": {
          "base_uri": "https://localhost:8080/"
        },
        "id": "iRulIVvckqcJ",
        "outputId": "8eb879d6-4ba2-44b0-d973-9fbc224be9ae"
      },
      "outputs": [
        {
          "output_type": "stream",
          "name": "stdout",
          "text": [
            "Digite seu nome: lojuan\n",
            "Digite a primeira nota: 6.6\n",
            "Digite a segunda nota: 6.7\n",
            "Digite a terceira nota: 6.8\n",
            "lojuan sua média é 6.70\n",
            "Parabens, sua nota foi arrendonda para 7. Você foi aprovado.\n"
          ]
        }
      ],
      "source": [
        "nome = input(\"Digite seu nome: \")\n",
        "nota_1 = float(input(\"Digite a primeira nota: \"))\n",
        "nota_2 = float(input( \"Digite a segunda nota: \"))\n",
        "nota_3 = float(input(\"Digite a terceira nota: \"))\n",
        "media = (nota_1 + nota_2 + nota_3) / 3\n",
        "print( nome, \"sua média é\", f\"{media:.2f}\")\n",
        "if media >= 7:\n",
        "  print(\"Parabéns\",nome,\", você foi aprovado com a média de\", media)\n",
        "elif media >= 5 and media <= 6.5:\n",
        "  print(\"Voce ficou de exame, sinto muito,\",nome)\n",
        "elif media >= 6.6 and media <= 6.9:\n",
        "  print(\"Parabens, sua nota foi arrendonda para 7. Você foi aprovado.\")\n",
        "else:\n",
        "  print(nome, \", infelizmente você foi reprovado. Sua média ficou de\", f\"{media:.2f}\")"
      ]
    }
  ]
}